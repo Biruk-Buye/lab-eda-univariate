{
 "cells": [
  {
   "cell_type": "code",
   "execution_count": 326,
   "id": "c69c0b8d-caa9-44d4-8912-697e3d8dcba8",
   "metadata": {},
   "outputs": [],
   "source": [
    "import pandas as pd\n",
    "import seaborn as sns\n",
    "import matplotlib.pyplot as plt\n",
    "import warnings\n",
    "warnings.filterwarnings('ignore')"
   ]
  },
  {
   "cell_type": "code",
   "execution_count": 3,
   "id": "e5518a9a-6212-4bdd-9607-94979ac56e08",
   "metadata": {},
   "outputs": [],
   "source": [
    "df = pd.read_csv('/Users/biruk/Documents/Ironhack/lab-eda-univariate/amz_uk_price_prediction_dataset.csv', index_col='uid')"
   ]
  },
  {
   "cell_type": "code",
   "execution_count": 260,
   "id": "14929ddf-5bbd-4478-a287-81d690442df4",
   "metadata": {},
   "outputs": [
    {
     "data": {
      "text/html": [
       "<div>\n",
       "<style scoped>\n",
       "    .dataframe tbody tr th:only-of-type {\n",
       "        vertical-align: middle;\n",
       "    }\n",
       "\n",
       "    .dataframe tbody tr th {\n",
       "        vertical-align: top;\n",
       "    }\n",
       "\n",
       "    .dataframe thead th {\n",
       "        text-align: right;\n",
       "    }\n",
       "</style>\n",
       "<table border=\"1\" class=\"dataframe\">\n",
       "  <thead>\n",
       "    <tr style=\"text-align: right;\">\n",
       "      <th></th>\n",
       "      <th>asin</th>\n",
       "      <th>title</th>\n",
       "      <th>stars</th>\n",
       "      <th>reviews</th>\n",
       "      <th>price</th>\n",
       "      <th>isBestSeller</th>\n",
       "      <th>boughtInLastMonth</th>\n",
       "      <th>category</th>\n",
       "    </tr>\n",
       "    <tr>\n",
       "      <th>uid</th>\n",
       "      <th></th>\n",
       "      <th></th>\n",
       "      <th></th>\n",
       "      <th></th>\n",
       "      <th></th>\n",
       "      <th></th>\n",
       "      <th></th>\n",
       "      <th></th>\n",
       "    </tr>\n",
       "  </thead>\n",
       "  <tbody>\n",
       "    <tr>\n",
       "      <th>2828582</th>\n",
       "      <td>B07JM93SCC</td>\n",
       "      <td>Motorcycle Clothing Suit - Motorbike Suit With...</td>\n",
       "      <td>0.0</td>\n",
       "      <td>0</td>\n",
       "      <td>166.99</td>\n",
       "      <td>False</td>\n",
       "      <td>0</td>\n",
       "      <td>Motorbike Clothing</td>\n",
       "    </tr>\n",
       "    <tr>\n",
       "      <th>2828585</th>\n",
       "      <td>B07DCFQMQL</td>\n",
       "      <td>Speed MaxX BODY ARMOUR CE MOTORBIKE/MOTORCYCLE...</td>\n",
       "      <td>3.6</td>\n",
       "      <td>66</td>\n",
       "      <td>49.99</td>\n",
       "      <td>False</td>\n",
       "      <td>0</td>\n",
       "      <td>Motorbike Clothing</td>\n",
       "    </tr>\n",
       "    <tr>\n",
       "      <th>2828586</th>\n",
       "      <td>B07JM5VQFX</td>\n",
       "      <td>Motorcycle Clothing Suit - Motorbike Suit With...</td>\n",
       "      <td>4.1</td>\n",
       "      <td>5</td>\n",
       "      <td>158.99</td>\n",
       "      <td>False</td>\n",
       "      <td>0</td>\n",
       "      <td>Motorbike Clothing</td>\n",
       "    </tr>\n",
       "    <tr>\n",
       "      <th>2828587</th>\n",
       "      <td>B07X98JLFF</td>\n",
       "      <td>GREAT BIKERS GEAR - Bobber Cafe Brat Style Lea...</td>\n",
       "      <td>3.6</td>\n",
       "      <td>12</td>\n",
       "      <td>14.99</td>\n",
       "      <td>False</td>\n",
       "      <td>0</td>\n",
       "      <td>Motorbike Clothing</td>\n",
       "    </tr>\n",
       "    <tr>\n",
       "      <th>2828588</th>\n",
       "      <td>B0BQMXJPP5</td>\n",
       "      <td>Helmet Ponytail Pigtails Twist Braids Hair wit...</td>\n",
       "      <td>0.0</td>\n",
       "      <td>0</td>\n",
       "      <td>19.99</td>\n",
       "      <td>False</td>\n",
       "      <td>0</td>\n",
       "      <td>Motorbike Clothing</td>\n",
       "    </tr>\n",
       "    <tr>\n",
       "      <th>2828589</th>\n",
       "      <td>B0CHSD7P2Q</td>\n",
       "      <td>Motorbike Armour, Motorbike Clothing, Cycling ...</td>\n",
       "      <td>0.0</td>\n",
       "      <td>0</td>\n",
       "      <td>22.34</td>\n",
       "      <td>False</td>\n",
       "      <td>0</td>\n",
       "      <td>Motorbike Clothing</td>\n",
       "    </tr>\n",
       "    <tr>\n",
       "      <th>2828590</th>\n",
       "      <td>B0B7B8FNBQ</td>\n",
       "      <td>PROFIRST Waterproof Motorcycle 2 Piece Ladies ...</td>\n",
       "      <td>0.0</td>\n",
       "      <td>0</td>\n",
       "      <td>97.99</td>\n",
       "      <td>False</td>\n",
       "      <td>0</td>\n",
       "      <td>Motorbike Clothing</td>\n",
       "    </tr>\n",
       "    <tr>\n",
       "      <th>2828591</th>\n",
       "      <td>B0BD5FL5FB</td>\n",
       "      <td>Men’s Motorcycle Motorbike Biker Trousers Kevl...</td>\n",
       "      <td>0.0</td>\n",
       "      <td>0</td>\n",
       "      <td>52.99</td>\n",
       "      <td>False</td>\n",
       "      <td>0</td>\n",
       "      <td>Motorbike Clothing</td>\n",
       "    </tr>\n",
       "    <tr>\n",
       "      <th>2828592</th>\n",
       "      <td>B008OYLL4I</td>\n",
       "      <td>Texpeed Mens Motorcycle Motorbike Biker Trouse...</td>\n",
       "      <td>4.3</td>\n",
       "      <td>404</td>\n",
       "      <td>79.99</td>\n",
       "      <td>False</td>\n",
       "      <td>0</td>\n",
       "      <td>Motorbike Clothing</td>\n",
       "    </tr>\n",
       "    <tr>\n",
       "      <th>2828593</th>\n",
       "      <td>B08P3W9B3T</td>\n",
       "      <td>RIDEX CJ223 Motorcycle Motorbike Jacket Armour...</td>\n",
       "      <td>4.5</td>\n",
       "      <td>34</td>\n",
       "      <td>53.99</td>\n",
       "      <td>False</td>\n",
       "      <td>0</td>\n",
       "      <td>Motorbike Clothing</td>\n",
       "    </tr>\n",
       "  </tbody>\n",
       "</table>\n",
       "</div>"
      ],
      "text/plain": [
       "               asin                                              title  stars  \\\n",
       "uid                                                                             \n",
       "2828582  B07JM93SCC  Motorcycle Clothing Suit - Motorbike Suit With...    0.0   \n",
       "2828585  B07DCFQMQL  Speed MaxX BODY ARMOUR CE MOTORBIKE/MOTORCYCLE...    3.6   \n",
       "2828586  B07JM5VQFX  Motorcycle Clothing Suit - Motorbike Suit With...    4.1   \n",
       "2828587  B07X98JLFF  GREAT BIKERS GEAR - Bobber Cafe Brat Style Lea...    3.6   \n",
       "2828588  B0BQMXJPP5  Helmet Ponytail Pigtails Twist Braids Hair wit...    0.0   \n",
       "2828589  B0CHSD7P2Q  Motorbike Armour, Motorbike Clothing, Cycling ...    0.0   \n",
       "2828590  B0B7B8FNBQ  PROFIRST Waterproof Motorcycle 2 Piece Ladies ...    0.0   \n",
       "2828591  B0BD5FL5FB  Men’s Motorcycle Motorbike Biker Trousers Kevl...    0.0   \n",
       "2828592  B008OYLL4I  Texpeed Mens Motorcycle Motorbike Biker Trouse...    4.3   \n",
       "2828593  B08P3W9B3T  RIDEX CJ223 Motorcycle Motorbike Jacket Armour...    4.5   \n",
       "\n",
       "         reviews   price  isBestSeller  boughtInLastMonth            category  \n",
       "uid                                                                            \n",
       "2828582        0  166.99         False                  0  Motorbike Clothing  \n",
       "2828585       66   49.99         False                  0  Motorbike Clothing  \n",
       "2828586        5  158.99         False                  0  Motorbike Clothing  \n",
       "2828587       12   14.99         False                  0  Motorbike Clothing  \n",
       "2828588        0   19.99         False                  0  Motorbike Clothing  \n",
       "2828589        0   22.34         False                  0  Motorbike Clothing  \n",
       "2828590        0   97.99         False                  0  Motorbike Clothing  \n",
       "2828591        0   52.99         False                  0  Motorbike Clothing  \n",
       "2828592      404   79.99         False                  0  Motorbike Clothing  \n",
       "2828593       34   53.99         False                  0  Motorbike Clothing  "
      ]
     },
     "execution_count": 260,
     "metadata": {},
     "output_type": "execute_result"
    }
   ],
   "source": [
    "df.tail(10)"
   ]
  },
  {
   "cell_type": "markdown",
   "id": "e000e5ec-5329-46ff-9373-20daf9742320",
   "metadata": {},
   "source": [
    "# Part 1\n",
    "# Understanding Product Categories"
   ]
  },
  {
   "cell_type": "code",
   "execution_count": 5,
   "id": "a4112458-8c27-47f5-b23d-6f34a2ceb351",
   "metadata": {},
   "outputs": [
    {
     "data": {
      "text/html": [
       "<div>\n",
       "<style scoped>\n",
       "    .dataframe tbody tr th:only-of-type {\n",
       "        vertical-align: middle;\n",
       "    }\n",
       "\n",
       "    .dataframe tbody tr th {\n",
       "        vertical-align: top;\n",
       "    }\n",
       "\n",
       "    .dataframe thead th {\n",
       "        text-align: right;\n",
       "    }\n",
       "</style>\n",
       "<table border=\"1\" class=\"dataframe\">\n",
       "  <thead>\n",
       "    <tr style=\"text-align: right;\">\n",
       "      <th>col_0</th>\n",
       "      <th>count</th>\n",
       "    </tr>\n",
       "    <tr>\n",
       "      <th>category</th>\n",
       "      <th></th>\n",
       "    </tr>\n",
       "  </thead>\n",
       "  <tbody>\n",
       "    <tr>\n",
       "      <th>3D Printers</th>\n",
       "      <td>248</td>\n",
       "    </tr>\n",
       "    <tr>\n",
       "      <th>3D Printing &amp; Scanning</th>\n",
       "      <td>4067</td>\n",
       "    </tr>\n",
       "    <tr>\n",
       "      <th>Abrasive &amp; Finishing Products</th>\n",
       "      <td>250</td>\n",
       "    </tr>\n",
       "    <tr>\n",
       "      <th>Action Cameras</th>\n",
       "      <td>1697</td>\n",
       "    </tr>\n",
       "    <tr>\n",
       "      <th>Adapters</th>\n",
       "      <td>254</td>\n",
       "    </tr>\n",
       "    <tr>\n",
       "      <th>...</th>\n",
       "      <td>...</td>\n",
       "    </tr>\n",
       "    <tr>\n",
       "      <th>Wind Instruments</th>\n",
       "      <td>250</td>\n",
       "    </tr>\n",
       "    <tr>\n",
       "      <th>Window Treatments</th>\n",
       "      <td>239</td>\n",
       "    </tr>\n",
       "    <tr>\n",
       "      <th>Women</th>\n",
       "      <td>17772</td>\n",
       "    </tr>\n",
       "    <tr>\n",
       "      <th>Women's Sports &amp; Outdoor Shoes</th>\n",
       "      <td>1959</td>\n",
       "    </tr>\n",
       "    <tr>\n",
       "      <th>eBook Readers &amp; Accessories</th>\n",
       "      <td>246</td>\n",
       "    </tr>\n",
       "  </tbody>\n",
       "</table>\n",
       "<p>296 rows × 1 columns</p>\n",
       "</div>"
      ],
      "text/plain": [
       "col_0                           count\n",
       "category                             \n",
       "3D Printers                       248\n",
       "3D Printing & Scanning           4067\n",
       "Abrasive & Finishing Products     250\n",
       "Action Cameras                   1697\n",
       "Adapters                          254\n",
       "...                               ...\n",
       "Wind Instruments                  250\n",
       "Window Treatments                 239\n",
       "Women                           17772\n",
       "Women's Sports & Outdoor Shoes   1959\n",
       "eBook Readers & Accessories       246\n",
       "\n",
       "[296 rows x 1 columns]"
      ]
     },
     "execution_count": 5,
     "metadata": {},
     "output_type": "execute_result"
    }
   ],
   "source": [
    "# Generate a frequency table for the product category\n",
    "\n",
    "frequency = pd.crosstab(index = df['category'],\n",
    "           columns='count')\n",
    "frequency"
   ]
  },
  {
   "cell_type": "code",
   "execution_count": 6,
   "id": "7a7d845a-6e4a-4c7d-8241-6fefca1c3593",
   "metadata": {},
   "outputs": [],
   "source": [
    "# sort listed product category counts\n",
    "top_five = frequency.sort_values(by=['count'], ascending=False)\n"
   ]
  },
  {
   "cell_type": "code",
   "execution_count": 7,
   "id": "475f860b-6446-454d-8bd2-9ff3bca87203",
   "metadata": {},
   "outputs": [
    {
     "data": {
      "text/html": [
       "<div>\n",
       "<style scoped>\n",
       "    .dataframe tbody tr th:only-of-type {\n",
       "        vertical-align: middle;\n",
       "    }\n",
       "\n",
       "    .dataframe tbody tr th {\n",
       "        vertical-align: top;\n",
       "    }\n",
       "\n",
       "    .dataframe thead th {\n",
       "        text-align: right;\n",
       "    }\n",
       "</style>\n",
       "<table border=\"1\" class=\"dataframe\">\n",
       "  <thead>\n",
       "    <tr style=\"text-align: right;\">\n",
       "      <th>col_0</th>\n",
       "      <th>count</th>\n",
       "    </tr>\n",
       "    <tr>\n",
       "      <th>category</th>\n",
       "      <th></th>\n",
       "    </tr>\n",
       "  </thead>\n",
       "  <tbody>\n",
       "    <tr>\n",
       "      <th>Sports &amp; Outdoors</th>\n",
       "      <td>836265</td>\n",
       "    </tr>\n",
       "    <tr>\n",
       "      <th>Beauty</th>\n",
       "      <td>19312</td>\n",
       "    </tr>\n",
       "    <tr>\n",
       "      <th>Handmade Clothing, Shoes &amp; Accessories</th>\n",
       "      <td>19229</td>\n",
       "    </tr>\n",
       "    <tr>\n",
       "      <th>Bath &amp; Body</th>\n",
       "      <td>19092</td>\n",
       "    </tr>\n",
       "    <tr>\n",
       "      <th>Birthday Gifts</th>\n",
       "      <td>18978</td>\n",
       "    </tr>\n",
       "  </tbody>\n",
       "</table>\n",
       "</div>"
      ],
      "text/plain": [
       "col_0                                    count\n",
       "category                                      \n",
       "Sports & Outdoors                       836265\n",
       "Beauty                                   19312\n",
       "Handmade Clothing, Shoes & Accessories   19229\n",
       "Bath & Body                              19092\n",
       "Birthday Gifts                           18978"
      ]
     },
     "execution_count": 7,
     "metadata": {},
     "output_type": "execute_result"
    }
   ],
   "source": [
    "# top 5 most listed product categories\n",
    "\n",
    "five = top_five.nlargest(5, 'count')\n",
    "five"
   ]
  },
  {
   "cell_type": "code",
   "execution_count": 328,
   "id": "2b1b434a-5071-4a6f-80f3-3a54670d40e8",
   "metadata": {},
   "outputs": [
    {
     "data": {
      "image/png": "[encoded data removed]",
      "text/plain": [
       "<Figure size 600x400 with 1 Axes>"
      ]
     },
     "metadata": {},
     "output_type": "display_data"
    }
   ],
   "source": [
    "# Display the distribution of products across different categories using a bar chart. \n",
    "# If you face problems understanding the chart, do it for a subset of top categories\n",
    "\n",
    "sns.set(rc={'figure.figsize':(6,4)})\n",
    "ax = sns.barplot(x='count', y='category', data=five, palette='summer')\n"
   ]
  },
  {
   "cell_type": "code",
   "execution_count": 83,
   "id": "3c50520e-c89a-4ac3-8583-b4d62c03f651",
   "metadata": {},
   "outputs": [
    {
     "data": {
      "image/png": "[encoded data removed]",
      "text/plain": [
       "<Figure size 1000x800 with 1 Axes>"
      ]
     },
     "metadata": {},
     "output_type": "display_data"
    }
   ],
   "source": [
    "# Visualize proportions using a pie chart. \n",
    "# Sports & Outdoors dominate the listing category with (91.61%)\n",
    "plt.figure(figsize = (10, 8))\n",
    "plt.pie(five['count'],\n",
    "       labels = five['count'].values,\n",
    "       autopct = '%.2f%%',\n",
    "       explode = [0, 0, 0.2, 0, 0.5 ])\n",
    "plt.show()"
   ]
  },
  {
   "cell_type": "markdown",
   "id": "3831017e-8817-44eb-8853-d65da821a627",
   "metadata": {},
   "source": [
    "# Part 2\n",
    "## Measures of Centrality"
   ]
  },
  {
   "cell_type": "markdown",
   "id": "8aa43a88-587e-46c4-9e56-64bb16de681c",
   "metadata": {},
   "source": [
    "#### Calculate the mean, median, and mode"
   ]
  },
  {
   "cell_type": "code",
   "execution_count": 210,
   "id": "95845ca3-9c50-4530-9663-f98e72c3317f",
   "metadata": {},
   "outputs": [
    {
     "data": {
      "text/html": [
       "<div>\n",
       "<style scoped>\n",
       "    .dataframe tbody tr th:only-of-type {\n",
       "        vertical-align: middle;\n",
       "    }\n",
       "\n",
       "    .dataframe tbody tr th {\n",
       "        vertical-align: top;\n",
       "    }\n",
       "\n",
       "    .dataframe thead th {\n",
       "        text-align: right;\n",
       "    }\n",
       "</style>\n",
       "<table border=\"1\" class=\"dataframe\">\n",
       "  <thead>\n",
       "    <tr style=\"text-align: right;\">\n",
       "      <th></th>\n",
       "      <th>stars</th>\n",
       "      <th>reviews</th>\n",
       "      <th>price</th>\n",
       "      <th>boughtInLastMonth</th>\n",
       "    </tr>\n",
       "  </thead>\n",
       "  <tbody>\n",
       "    <tr>\n",
       "      <th>count</th>\n",
       "      <td>2.443651e+06</td>\n",
       "      <td>2.443651e+06</td>\n",
       "      <td>2.443651e+06</td>\n",
       "      <td>2.443651e+06</td>\n",
       "    </tr>\n",
       "    <tr>\n",
       "      <th>mean</th>\n",
       "      <td>2.152836e+00</td>\n",
       "      <td>4.806278e+02</td>\n",
       "      <td>8.924381e+01</td>\n",
       "      <td>2.589699e+01</td>\n",
       "    </tr>\n",
       "    <tr>\n",
       "      <th>std</th>\n",
       "      <td>2.194865e+00</td>\n",
       "      <td>5.944124e+03</td>\n",
       "      <td>3.456089e+02</td>\n",
       "      <td>2.404837e+02</td>\n",
       "    </tr>\n",
       "    <tr>\n",
       "      <th>min</th>\n",
       "      <td>0.000000e+00</td>\n",
       "      <td>0.000000e+00</td>\n",
       "      <td>0.000000e+00</td>\n",
       "      <td>0.000000e+00</td>\n",
       "    </tr>\n",
       "    <tr>\n",
       "      <th>25%</th>\n",
       "      <td>0.000000e+00</td>\n",
       "      <td>0.000000e+00</td>\n",
       "      <td>9.990000e+00</td>\n",
       "      <td>0.000000e+00</td>\n",
       "    </tr>\n",
       "    <tr>\n",
       "      <th>50%</th>\n",
       "      <td>0.000000e+00</td>\n",
       "      <td>0.000000e+00</td>\n",
       "      <td>1.909000e+01</td>\n",
       "      <td>0.000000e+00</td>\n",
       "    </tr>\n",
       "    <tr>\n",
       "      <th>75%</th>\n",
       "      <td>4.400000e+00</td>\n",
       "      <td>5.900000e+01</td>\n",
       "      <td>4.599000e+01</td>\n",
       "      <td>0.000000e+00</td>\n",
       "    </tr>\n",
       "    <tr>\n",
       "      <th>max</th>\n",
       "      <td>5.000000e+00</td>\n",
       "      <td>1.356658e+06</td>\n",
       "      <td>1.000000e+05</td>\n",
       "      <td>5.000000e+04</td>\n",
       "    </tr>\n",
       "  </tbody>\n",
       "</table>\n",
       "</div>"
      ],
      "text/plain": [
       "              stars       reviews         price  boughtInLastMonth\n",
       "count  2.443651e+06  2.443651e+06  2.443651e+06       2.443651e+06\n",
       "mean   2.152836e+00  4.806278e+02  8.924381e+01       2.589699e+01\n",
       "std    2.194865e+00  5.944124e+03  3.456089e+02       2.404837e+02\n",
       "min    0.000000e+00  0.000000e+00  0.000000e+00       0.000000e+00\n",
       "25%    0.000000e+00  0.000000e+00  9.990000e+00       0.000000e+00\n",
       "50%    0.000000e+00  0.000000e+00  1.909000e+01       0.000000e+00\n",
       "75%    4.400000e+00  5.900000e+01  4.599000e+01       0.000000e+00\n",
       "max    5.000000e+00  1.356658e+06  1.000000e+05       5.000000e+04"
      ]
     },
     "execution_count": 210,
     "metadata": {},
     "output_type": "execute_result"
    }
   ],
   "source": [
    "df.describe()"
   ]
  },
  {
   "cell_type": "code",
   "execution_count": 49,
   "id": "389b654a-977e-4d8e-95ca-c9c9ac503e02",
   "metadata": {},
   "outputs": [
    {
     "data": {
      "text/plain": [
       "89.24"
      ]
     },
     "execution_count": 49,
     "metadata": {},
     "output_type": "execute_result"
    }
   ],
   "source": [
    "df['price'].mean().round(2)"
   ]
  },
  {
   "cell_type": "code",
   "execution_count": 41,
   "id": "4601de59-ab6b-4913-82db-e7115e41e152",
   "metadata": {},
   "outputs": [
    {
     "data": {
      "text/plain": [
       "0    9.99\n",
       "Name: price, dtype: float64"
      ]
     },
     "execution_count": 41,
     "metadata": {},
     "output_type": "execute_result"
    }
   ],
   "source": [
    "df['price'].mode()"
   ]
  },
  {
   "cell_type": "code",
   "execution_count": 37,
   "id": "334ed9c2-7fa6-4ca6-9d35-7ca246f23728",
   "metadata": {},
   "outputs": [
    {
     "data": {
      "text/plain": [
       "19.09"
      ]
     },
     "execution_count": 37,
     "metadata": {},
     "output_type": "execute_result"
    }
   ],
   "source": [
    "df['price'].round(2).median()"
   ]
  },
  {
   "cell_type": "markdown",
   "id": "ec3faacf-12cb-44d9-b801-bc0c283570cd",
   "metadata": {},
   "source": [
    "#### What's the average price point of products listed? How does this compare with the most common price point (mode)?"
   ]
  },
  {
   "cell_type": "code",
   "execution_count": 75,
   "id": "d9ab8dc6-3604-4fee-9e05-972806849105",
   "metadata": {},
   "outputs": [],
   "source": [
    "# The average price point for products listed is 89.24 where as the most common price point is 9.99. \n",
    "# This shows there is no close relation between this two."
   ]
  },
  {
   "cell_type": "markdown",
   "id": "4e47c598-d467-4ce3-ae2f-1aa76dbcd79f",
   "metadata": {},
   "source": [
    "## Measures of Dispersion"
   ]
  },
  {
   "cell_type": "markdown",
   "id": "5b21aa83-9d5b-4477-bcb3-a69e47fee7b3",
   "metadata": {},
   "source": [
    "#### Determine the variance, standard deviation, range, and interquartile range for product price"
   ]
  },
  {
   "cell_type": "code",
   "execution_count": 149,
   "id": "d4dc71b9-3b76-4675-8eeb-ebe8fcab3c3c",
   "metadata": {},
   "outputs": [
    {
     "data": {
      "text/plain": [
       "119445.48532256528"
      ]
     },
     "execution_count": 149,
     "metadata": {},
     "output_type": "execute_result"
    }
   ],
   "source": [
    "# Determine the Variance\n",
    "df['price'].var()"
   ]
  },
  {
   "cell_type": "code",
   "execution_count": 163,
   "id": "4f921e74-8cab-4bc5-985c-c2ad34139a4c",
   "metadata": {},
   "outputs": [
    {
     "data": {
      "text/plain": [
       "345.60886175352226"
      ]
     },
     "execution_count": 163,
     "metadata": {},
     "output_type": "execute_result"
    }
   ],
   "source": [
    "# Determine the Standard Diviation\n",
    "df['price'].std()"
   ]
  },
  {
   "cell_type": "markdown",
   "id": "590705b6-70ad-4e20-af0c-265ffcfb0ea2",
   "metadata": {},
   "source": [
    "#### Determine the Range"
   ]
  },
  {
   "cell_type": "code",
   "execution_count": 176,
   "id": "64b236e3-cda3-4961-8cac-a049ca68303c",
   "metadata": {},
   "outputs": [],
   "source": [
    "min = df['price'].min()"
   ]
  },
  {
   "cell_type": "code",
   "execution_count": 174,
   "id": "6db10377-5b18-46d5-9d5f-272b8346669e",
   "metadata": {},
   "outputs": [],
   "source": [
    "max = df['price'].max()"
   ]
  },
  {
   "cell_type": "code",
   "execution_count": 206,
   "id": "a171e60f-3e1a-4c2f-9dde-5c22d223d530",
   "metadata": {},
   "outputs": [],
   "source": [
    "range = max - min"
   ]
  },
  {
   "cell_type": "code",
   "execution_count": 208,
   "id": "4cbd34e3-1232-42e0-9250-3442fd4bf7b4",
   "metadata": {},
   "outputs": [
    {
     "data": {
      "text/plain": [
       "100000.0"
      ]
     },
     "execution_count": 208,
     "metadata": {},
     "output_type": "execute_result"
    }
   ],
   "source": [
    "range"
   ]
  },
  {
   "cell_type": "code",
   "execution_count": 212,
   "id": "a1bf8e22-6746-4c2f-85f0-16bc21f3ea82",
   "metadata": {},
   "outputs": [
    {
     "data": {
      "text/plain": [
       "36.0"
      ]
     },
     "execution_count": 212,
     "metadata": {},
     "output_type": "execute_result"
    }
   ],
   "source": [
    "# The interquartile range\n",
    "price_IQR = df['price'].describe()['75%'] - df['price'].describe()['25%']\n",
    "price_IQR"
   ]
  },
  {
   "cell_type": "markdown",
   "id": "fcefb00e-43c6-483a-bcfa-19513e9064b6",
   "metadata": {},
   "source": [
    "#### How varied are the product prices? Are there any indicators of a significant spread in prices?"
   ]
  },
  {
   "cell_type": "code",
   "execution_count": null,
   "id": "8602796d-ce84-4ae9-99f4-2caba14a3c7a",
   "metadata": {},
   "outputs": [],
   "source": []
  },
  {
   "cell_type": "markdown",
   "id": "664666ba-7985-4e1c-a4d5-15b073990518",
   "metadata": {},
   "source": [
    "## Visualizations"
   ]
  },
  {
   "cell_type": "code",
   "execution_count": 219,
   "id": "d145cea6-bcaf-467f-9561-b2a9d912cd29",
   "metadata": {},
   "outputs": [],
   "source": [
    "# Is there a specific price range where most products fall? Plot a histogram to visualize the distribution of product prices.\n",
    "# If its hard to read these diagrams, think why this is, and explain how it could be solved.."
   ]
  },
  {
   "cell_type": "code",
   "execution_count": 253,
   "id": "e966c6f6-314c-4c99-8e8f-f8017e827213",
   "metadata": {},
   "outputs": [
    {
     "data": {
      "image/png": "[encoded data removed]",
      "text/plain": [
       "<Figure size 1000x400 with 1 Axes>"
      ]
     },
     "metadata": {},
     "output_type": "display_data"
    }
   ],
   "source": [
    "df.hist(column='price',\n",
    "       grid=False,\n",
    "       figsize=(10, 4),\n",
    "       legend=True,\n",
    "       bins=30,\n",
    "       orientation='horizontal',\n",
    "       color='#FFCF56');"
   ]
  },
  {
   "cell_type": "code",
   "execution_count": null,
   "id": "54cc6708-8156-44b8-a1a4-b880308f9570",
   "metadata": {},
   "outputs": [],
   "source": [
    "# it is hard to read the histogram because there is big outliers and most price lies towards zero.\n",
    "# solution would be, clearing those outliers. "
   ]
  },
  {
   "cell_type": "code",
   "execution_count": 257,
   "id": "218ec44c-0ccd-4306-8d18-e4ee91416a41",
   "metadata": {},
   "outputs": [
    {
     "data": {
      "text/plain": [
       "<Axes: ylabel='price'>"
      ]
     },
     "execution_count": 257,
     "metadata": {},
     "output_type": "execute_result"
    },
    {
     "data": {
      "image/png": "[encoded data removed]",
      "text/plain": [
       "<Figure size 600x400 with 1 Axes>"
      ]
     },
     "metadata": {},
     "output_type": "display_data"
    }
   ],
   "source": [
    "# Price significantly higher than the rest.\n",
    "# The spread and potential outliers in product pricing.\n",
    "\n",
    "sns.boxplot(df['price'])"
   ]
  },
  {
   "cell_type": "markdown",
   "id": "af1cd9ee-121a-413d-b02c-3da2fc05ee4f",
   "metadata": {},
   "source": [
    "# Part 3\n",
    "## Unpacking Product Ratings"
   ]
  },
  {
   "cell_type": "markdown",
   "id": "6fd6b146-657d-480c-8398-b86a777b0454",
   "metadata": {},
   "source": [
    "## Measures of Centrality"
   ]
  },
  {
   "cell_type": "code",
   "execution_count": 282,
   "id": "9f70742d-5512-4b4e-83df-29a575d5e1e4",
   "metadata": {},
   "outputs": [
    {
     "data": {
      "text/plain": [
       "count    2.443651e+06\n",
       "mean     2.152836e+00\n",
       "std      2.194865e+00\n",
       "min      0.000000e+00\n",
       "25%      0.000000e+00\n",
       "50%      0.000000e+00\n",
       "75%      4.400000e+00\n",
       "max      5.000000e+00\n",
       "Name: stars, dtype: float64"
      ]
     },
     "execution_count": 282,
     "metadata": {},
     "output_type": "execute_result"
    }
   ],
   "source": [
    "# Calculate the mean, median, and mode for the rating of products.\n",
    "df['stars'].describe()"
   ]
  },
  {
   "cell_type": "code",
   "execution_count": 266,
   "id": "871c5d34-c9b9-4180-9fee-118be51adb1e",
   "metadata": {},
   "outputs": [
    {
     "data": {
      "text/plain": [
       "2.15"
      ]
     },
     "execution_count": 266,
     "metadata": {},
     "output_type": "execute_result"
    }
   ],
   "source": [
    "df['stars'].mean().round(2)"
   ]
  },
  {
   "cell_type": "code",
   "execution_count": 270,
   "id": "6b6834c1-6609-4b31-909c-c59649d6f428",
   "metadata": {},
   "outputs": [
    {
     "data": {
      "text/plain": [
       "0.0"
      ]
     },
     "execution_count": 270,
     "metadata": {},
     "output_type": "execute_result"
    }
   ],
   "source": [
    "df['stars'].median()"
   ]
  },
  {
   "cell_type": "code",
   "execution_count": 286,
   "id": "620642fd-3d87-4f99-9180-b76fa6b7aa24",
   "metadata": {},
   "outputs": [
    {
     "data": {
      "text/plain": [
       "0    0.0\n",
       "Name: stars, dtype: float64"
      ]
     },
     "execution_count": 286,
     "metadata": {},
     "output_type": "execute_result"
    }
   ],
   "source": [
    "df['stars'].mode()"
   ]
  },
  {
   "cell_type": "code",
   "execution_count": null,
   "id": "b5233cf8-e86a-4ff6-81a6-ae8120aaaa5f",
   "metadata": {},
   "outputs": [],
   "source": [
    "# How do customers generally rate products? Is there a common trend?\n",
    "\n",
    "# By looking at the 50% on describe(), customers usually tend not to rate a product."
   ]
  },
  {
   "cell_type": "markdown",
   "id": "7ecbc7fc-9efb-4154-b805-3c7dfc8e51ba",
   "metadata": {},
   "source": [
    "## Measures of Dispersion"
   ]
  },
  {
   "cell_type": "markdown",
   "id": "2793d6fa-31b6-4168-9b94-dcd67c9880b0",
   "metadata": {},
   "source": [
    "#### Determine the variance, standard deviation, and interquartile range for product rating"
   ]
  },
  {
   "cell_type": "code",
   "execution_count": 302,
   "id": "a26af239-5075-42c6-9f28-1611fae4a4f4",
   "metadata": {},
   "outputs": [
    {
     "data": {
      "text/plain": [
       "4.81743402976196"
      ]
     },
     "execution_count": 302,
     "metadata": {},
     "output_type": "execute_result"
    }
   ],
   "source": [
    "# Determine the Variance\n",
    "df['stars'].var()"
   ]
  },
  {
   "cell_type": "code",
   "execution_count": 304,
   "id": "9cf1c48b-6db9-4746-b9af-adc396cb7a30",
   "metadata": {},
   "outputs": [
    {
     "data": {
      "text/plain": [
       "2.1948653785054697"
      ]
     },
     "execution_count": 304,
     "metadata": {},
     "output_type": "execute_result"
    }
   ],
   "source": [
    "df['stars'].std()"
   ]
  },
  {
   "cell_type": "code",
   "execution_count": 306,
   "id": "5750aa01-084c-43c4-9c89-a12ad011fa7f",
   "metadata": {},
   "outputs": [
    {
     "data": {
      "text/plain": [
       "-5.59"
      ]
     },
     "execution_count": 306,
     "metadata": {},
     "output_type": "execute_result"
    }
   ],
   "source": [
    "# The interquartile range\n",
    "star_IQR = df['stars'].describe()['75%'] - df['price'].describe()['25%']\n",
    "star_IQR"
   ]
  },
  {
   "cell_type": "markdown",
   "id": "d57c16fc-b3ad-4703-b2c9-b0a068408412",
   "metadata": {},
   "source": [
    "#### Are the ratings consistent, or is there a wide variation in customer feedback?"
   ]
  },
  {
   "cell_type": "code",
   "execution_count": null,
   "id": "3014d793-419f-4c6a-ae4b-abd6f14d80d4",
   "metadata": {},
   "outputs": [],
   "source": [
    "# The standard diviation shows that the ratings are pointing at 2.19 out of 5 start rating.\n",
    "# Customer feedbacks are mostly around the mean. But that might not be true as there are outliers around zero starts."
   ]
  },
  {
   "cell_type": "markdown",
   "id": "0a3bd581-9823-490e-a05c-457a680c1663",
   "metadata": {},
   "source": [
    "## Shape of the Distribution"
   ]
  },
  {
   "cell_type": "markdown",
   "id": "ad3ceca5-446b-4237-97b7-1a9f903a9f6c",
   "metadata": {},
   "source": [
    "#### Calculate the skewness and kurtosis for the rating column"
   ]
  },
  {
   "cell_type": "code",
   "execution_count": 311,
   "id": "f146985d-333f-4f04-a528-f03d9b48a1da",
   "metadata": {},
   "outputs": [
    {
     "data": {
      "text/plain": [
       "0.08120735761080985"
      ]
     },
     "execution_count": 311,
     "metadata": {},
     "output_type": "execute_result"
    }
   ],
   "source": [
    "df['stars'].skew()"
   ]
  },
  {
   "cell_type": "code",
   "execution_count": 313,
   "id": "430e329d-bf78-409a-9189-01cfd3717e42",
   "metadata": {},
   "outputs": [
    {
     "data": {
      "text/plain": [
       "-1.9260061280432985"
      ]
     },
     "execution_count": 313,
     "metadata": {},
     "output_type": "execute_result"
    }
   ],
   "source": [
    "df['stars'].kurtosis()"
   ]
  },
  {
   "cell_type": "markdown",
   "id": "d09e3312-6d88-490f-91c5-140836d9ff96",
   "metadata": {},
   "source": [
    "#### Are the ratings normally distributed, or do they lean towards higher or lower values?"
   ]
  },
  {
   "cell_type": "code",
   "execution_count": 330,
   "id": "5f116ea0-7645-4efd-bfdd-1d9de699842f",
   "metadata": {},
   "outputs": [
    {
     "data": {
      "text/plain": [
       "<Axes: xlabel='stars', ylabel='Density'>"
      ]
     },
     "execution_count": 330,
     "metadata": {},
     "output_type": "execute_result"
    },
    {
     "data": {
      "image/png": "[encoded data removed]",
      "text/plain": [
       "<Figure size 600x400 with 1 Axes>"
      ]
     },
     "metadata": {},
     "output_type": "display_data"
    }
   ],
   "source": [
    "sns.distplot(df['stars'], hist = True)"
   ]
  },
  {
   "cell_type": "code",
   "execution_count": null,
   "id": "4f5cf339-0380-4fcc-b05d-c651d835edad",
   "metadata": {},
   "outputs": [],
   "source": [
    "# The ratings are not normally distributed because the majority of the ratings tend not rating at all or they give zero ratings. \n",
    "# but if we see on the right side of the graph, we notice people also give more ratings starting from 3.5 stars up to 5 stars."
   ]
  },
  {
   "cell_type": "markdown",
   "id": "7c55f205-c050-4d7c-ad0d-314794032f8b",
   "metadata": {},
   "source": [
    "## Visualizations"
   ]
  },
  {
   "cell_type": "markdown",
   "id": "e33f70d7-7c5f-4300-aab2-62d180e947f3",
   "metadata": {},
   "source": [
    "#### Plot a histogram to visualize the distribution of product ratings. Is there a specific rating that is more common?"
   ]
  },
  {
   "cell_type": "code",
   "execution_count": 324,
   "id": "821449cd-7bf0-489e-a6d5-0a5918b8197a",
   "metadata": {},
   "outputs": [
    {
     "data": {
      "image/png": "[encoded data removed]",
      "text/plain": [
       "<Figure size 1000x400 with 1 Axes>"
      ]
     },
     "metadata": {},
     "output_type": "display_data"
    }
   ],
   "source": [
    "df.hist(column='stars',\n",
    "       grid=False,\n",
    "       figsize=(10, 4),\n",
    "       legend=True,\n",
    "       bins=30,\n",
    "       orientation='horizontal',\n",
    "       color='#FCCF26');"
   ]
  },
  {
   "cell_type": "code",
   "execution_count": null,
   "id": "a604c3a2-979d-452f-bf1d-84c22ca72daa",
   "metadata": {},
   "outputs": [],
   "source": []
  }
 ],
 "metadata": {
  "kernelspec": {
   "display_name": "Python 3 (ipykernel)",
   "language": "python",
   "name": "python3"
  },
  "language_info": {
   "codemirror_mode": {
    "name": "ipython",
    "version": 3
   },
   "file_extension": ".py",
   "mimetype": "text/x-python",
   "name": "python",
   "nbconvert_exporter": "python",
   "pygments_lexer": "ipython3",
   "version": "3.12.4"
  }
 },
 "nbformat": 4,
 "nbformat_minor": 5
}
